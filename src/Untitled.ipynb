{
 "cells": [
  {
   "cell_type": "code",
   "execution_count": null,
   "id": "9cff526b",
   "metadata": {},
   "outputs": [],
   "source": [
    "import numpy as np\n",
    "import cv2\n",
    "\n",
    "def convertToRotOpencv(coordinate,longEdgeVersionActive=False):\n",
    "    \"\"\"\n",
    "    Author Ibrahim Koc\n",
    "    If longEdgeVersionActive it will check width > height \n",
    "                            than angle will be multiplied by -1\n",
    "    :param coordinate: format [x1, y1, x2, y2, x3, y3, x4, y4]\n",
    "    :return: format [x_c, y_c, w, h, theta]\n",
    "    \"\"\"\n",
    "    box = np.int0(coordinate)\n",
    "    box = box.reshape([4, 2])\n",
    "    rect1 = cv2.minAreaRect(box)\n",
    "\n",
    "    x, y, w, h, theta = rect1[0][0], rect1[0][1], rect1[1][0], rect1[1][1], rect1[2]\n",
    "    if longEdgeVersionActive and w > h:\n",
    "        theta *= -1\n",
    "        \n",
    "    if theta == 90:\n",
    "        theta = -90\n",
    "    \n",
    "    myDict = {\"center_x\":float(x),\n",
    "              \"center_y\":float(y),\n",
    "              \"w\":w,\n",
    "              \"h\":h,\n",
    "              \"calculated_angle\":theta,\n",
    "              \"bbox\":coordinate,\n",
    "              \"longEdge\":longEdgeVersionActive }\n",
    "    return myDict\n"
   ]
  },
  {
   "cell_type": "code",
   "execution_count": null,
   "id": "83aa784e",
   "metadata": {},
   "outputs": [],
   "source": [
    "import cv2 \n",
    "import numpy as np\n",
    "import matplotlib.pyplot as plt\n",
    "\n",
    "def drawBbox(bbox,color):\n",
    "    bbox = np.array(bbox)\n",
    "    image = np.zeros((70,70, 3), dtype=np.uint8)\n",
    "    if color == \"red\":\n",
    "        color = (255,0,0)\n",
    "    elif color == \"green\":\n",
    "        color = (0,255,0)\n",
    "    # Convert bbox to integers\n",
    "    bbox = bbox.astype(int)\n",
    "\n",
    "    # Reshape the bbox array to get four points\n",
    "    points = bbox.reshape((4, 2))\n",
    "    print(points)\n",
    "    # Draw the bounding box on the image\n",
    "    cv2.polylines(image, [points], isClosed=True, color=color, thickness=1)\n",
    "    plt.imshow(image)\n",
    "    plt.axis('off')\n",
    "    plt.show()\n"
   ]
  },
  {
   "cell_type": "code",
   "execution_count": null,
   "id": "39e1566a",
   "metadata": {},
   "outputs": [],
   "source": [
    "bbox = [20,10,25,10,25,50,20,50]\n",
    "\n",
    "print(convertToRotOpencv(bbox))\n",
    "print(convertToRotOpencv(bbox,True))\n",
    "drawBbox(bbox,\"red\")"
   ]
  },
  {
   "cell_type": "code",
   "execution_count": null,
   "id": "65af8936",
   "metadata": {},
   "outputs": [],
   "source": [
    "bbox = [20,10,40,10,40,15,20,15]\n",
    "\n",
    "print(convertToRotOpencv(bbox))\n",
    "print(convertToRotOpencv(bbox,True))\n",
    "\n",
    "drawBbox(bbox,\"red\")\n"
   ]
  },
  {
   "cell_type": "code",
   "execution_count": null,
   "id": "01143f7e",
   "metadata": {},
   "outputs": [],
   "source": [
    "bbox = [30,10,10,30,40,60,60,40]\n",
    "\n",
    "print(convertToRotOpencv(bbox))\n",
    "print(convertToRotOpencv(bbox,True))\n",
    "drawBbox(bbox,\"red\")"
   ]
  },
  {
   "cell_type": "code",
   "execution_count": null,
   "id": "4f4d10e9",
   "metadata": {},
   "outputs": [],
   "source": [
    "bbox = [40,10,60,30,30,60,10,40]\n",
    "\n",
    "print(convertToRotOpencv(bbox))\n",
    "print(convertToRotOpencv(bbox,True))\n",
    "drawBbox(bbox,\"red\")"
   ]
  },
  {
   "cell_type": "code",
   "execution_count": null,
   "id": "92a6bd7e",
   "metadata": {},
   "outputs": [],
   "source": [
    "box = [10,30,70,10,80,40,20,60]\n",
    "print(convertToRotOpencv(bbox))\n",
    "print(convertToRotOpencv(bbox,True))\n",
    "drawBbox(bbox,\"red\")"
   ]
  },
  {
   "cell_type": "code",
   "execution_count": null,
   "id": "80b0cf21",
   "metadata": {},
   "outputs": [],
   "source": [
    "rbbox_points = cv2.boxPoints(((22.5, 30), (40,5), -90)).reshape(-1)\n",
    "print(rbbox_points)\n",
    "drawBbox(rbbox_points,\"red\")\n",
    "\n",
    "rbbox_points = cv2.boxPoints(((22.5, 30), (40,5), 0)).reshape(-1)\n",
    "print(rbbox_points)\n",
    "drawBbox(rbbox_points,\"red\")\n",
    "\n",
    "rbbox_points = cv2.boxPoints(((22.5, 30), (40,5), 90)).reshape(-1)\n",
    "print(rbbox_points)\n",
    "drawBbox(rbbox_points,\"red\")\n"
   ]
  },
  {
   "cell_type": "code",
   "execution_count": null,
   "id": "479970a1",
   "metadata": {},
   "outputs": [],
   "source": [
    "rbbox_points = cv2.boxPoints(((30, 12.5), (5,20), -90)).reshape(-1)\n",
    "print(rbbox_points)\n",
    "drawBbox(rbbox_points,\"red\")\n",
    "\n",
    "rbbox_points = cv2.boxPoints(((30, 12.5), (5,20), 0)).reshape(-1)\n",
    "print(rbbox_points)\n",
    "drawBbox(rbbox_points,\"red\")\n",
    "\n",
    "rbbox_points = cv2.boxPoints(((30, 12.5), (5,20), 90)).reshape(-1)\n",
    "print(rbbox_points)\n",
    "drawBbox(rbbox_points,\"red\")"
   ]
  },
  {
   "cell_type": "code",
   "execution_count": null,
   "id": "68dc0455",
   "metadata": {},
   "outputs": [],
   "source": [
    "import numpy as np\n",
    "bbox = [20,10,25,10,25,50,20,50]\n",
    "box = np.array(bbox)\n",
    "box = box.reshape([4, 2])\n",
    "print (box)\n",
    "print(box[0])"
   ]
  },
  {
   "cell_type": "code",
   "execution_count": null,
   "id": "68f4f09b",
   "metadata": {},
   "outputs": [],
   "source": [
    "np.linalg.norm(box[0]-box[1])"
   ]
  },
  {
   "cell_type": "code",
   "execution_count": null,
   "id": "2d578be6",
   "metadata": {},
   "outputs": [],
   "source": [
    "def calculateAngle(a,b):\n",
    "    angle_rad = np.arctan2(points[1, 1] - points[0, 1], points[1, 0] - points[0, 0])\n",
    "    angle_deg = np.degrees(angle_rad)\n",
    "    print(\"Angle (in radians):\", angle_rad)\n",
    "    print(\"Angle (in degrees):\", angle_deg)\n",
    "\n",
    "def convertToRotatedRect(bbox):\n",
    "    \"\"\"\n",
    "    Author Ibrahim Koc\n",
    "    :param coordinate: format [x1, y1, x2, y2, x3, y3, x4, y4]\n",
    "    :return: format [x_c, y_c, w, h, theta]\n",
    "    \"\"\"\n",
    "    # Reshape the coordinates into a 2D array of (4, 2) shape\n",
    "    points = np.array(coordinates).reshape((4, 2))\n",
    "    dist_a = np.linalg.norm(points[0]-points[1])\n",
    "    dist_b = np.linalg.norm(points[1]-points[2])\n",
    "\n",
    "    if dist_a > dist_b:\n",
    "        theta = calculateAngle(points[0],points[1])\n",
    "    else:\n",
    "        theta = calculateAngle(points[1],points[0])\n",
    "          \n",
    "    \n",
    "coordinates = [20, 0, 40, 0, 40, 40, 20, 40]\n",
    "convertToRotatedRect(coordinates)\n",
    "\n",
    "box = [10,30,70,10,80,40,20,60]\n",
    "convertToRotatedRect(box)\n",
    "\n",
    "    "
   ]
  },
  {
   "cell_type": "code",
   "execution_count": null,
   "id": "4f320153",
   "metadata": {},
   "outputs": [],
   "source": [
    "import numpy as np\n",
    "\n",
    "# Define the coordinates [x1, y1, x2, y2, x3, y3, x4, y4]\n",
    "coordinates = [20, 0, 40, 0, 40, 40, 20, 40]\n",
    "\n",
    "# Reshape the coordinates into a 2D array of (4, 2) shape\n",
    "points = np.array(coordinates).reshape((4, 2))\n",
    "\n",
    "# Calculate the Euclidean distances between consecutive points\n",
    "distances = np.linalg.norm(np.diff(points, axis=0), axis=1)\n",
    "\n",
    "# Find the index of the longest edge\n",
    "longest_edge_index = np.argmax(distances)\n",
    "\n",
    "# Find the longest edge length and vertices\n",
    "longest_edge_length = distances[longest_edge_index]\n",
    "longest_edge_vertices = points[longest_edge_index], points[(longest_edge_index + 1) % 4]\n",
    "\n",
    "print(\"Longest Edge Length:\", longest_edge_length)\n",
    "print(\"Longest Edge Vertices:\", longest_edge_vertices)\n"
   ]
  },
  {
   "cell_type": "code",
   "execution_count": null,
   "id": "16f0553a",
   "metadata": {},
   "outputs": [],
   "source": [
    "distances"
   ]
  },
  {
   "cell_type": "code",
   "execution_count": null,
   "id": "9791bb9b",
   "metadata": {},
   "outputs": [],
   "source": [
    "import cv2\n",
    "import numpy as np\n",
    "import matplotlib.pyplot as plt\n",
    "\n",
    "def drawBbox(bbox,color):\n",
    "    bbox = np.array(bbox)\n",
    "    image = np.zeros((80,80, 3), dtype=np.uint8)\n",
    "    if color == \"red\":\n",
    "        color = (255,0,0)\n",
    "    elif color == \"green\":\n",
    "        color = (0,255,0)\n",
    "    # Convert bbox to integers\n",
    "    bbox = bbox.astype(int)\n",
    "\n",
    "    # Reshape the bbox array to get four points\n",
    "    points = bbox.reshape((4, 2))\n",
    "    print(points)\n",
    "    # Draw the bounding box on the image\n",
    "    cv2.polylines(image, [points], isClosed=True, color=color, thickness=1)\n",
    "    plt.imshow(image)\n",
    "    plt.axis('off')\n",
    "    plt.show()\n",
    "def calculateAngle(start, end):\n",
    "    #print(\"Point end: {} - Point start: {}\".format(end,start))\n",
    "    ## Multiple by -1 , because of Y axis getting bigger when goes down. \n",
    "    angle_rad = np.arctan2( -1*(end[1] - start[1]) , end[0] - start[0]) \n",
    "    angle_deg = np.degrees(angle_rad)\n",
    "    #print(\"Angle (in radians):\", angle_rad)\n",
    "    #print(\"Calculated Angle (in degrees):\", angle_deg)\n",
    "    return angle_deg\n",
    "\n",
    "def convertToRotatedRect(coordinates):\n",
    "    \"\"\"\n",
    "    Author Ibrahim Koc\n",
    "    :param coordinate: format [x1, y1, x2, y2, x3, y3, x4, y4]\n",
    "    :return: format [x_c, y_c, w, h, theta]\n",
    "    \"\"\"\n",
    "    # Reshape the coordinates into a 2D array of (4, 2) shape\n",
    "    points = np.array(coordinates).reshape((4, 2))\n",
    "    print(points)\n",
    "    dist_a = np.linalg.norm(points[0] - points[1])\n",
    "    dist_b = np.linalg.norm(points[1] - points[2])\n",
    "    print(dist_a,dist_b)\n",
    "    if dist_a > dist_b:\n",
    "        theta = calculateAngle(points[0], points[1])\n",
    "    else:\n",
    "        theta = calculateAngle(points[1], points[2])\n",
    "\n",
    "def testBbox(bbox,angle):\n",
    "    bbox = np.array(bbox)\n",
    "    rollValues = [0,2,4,6]\n",
    "    for rv in rollValues:\n",
    "        rollBbox = np.roll(bbox,rv)\n",
    "        print(\"Roll:{} Bbox:{}\".format(rv,rollBbox))\n",
    "        calculateAngleLongestEdge(rollBbox)\n",
    "        print(\"Real Angle:\",angle)\n",
    "        drawBbox(rollBbox,\"red\")\n",
    "        \n",
    "def calculateAngleLongestEdge(coordinates):\n",
    "    # Append first point again to calculate lengths of all edges\n",
    "    points = np.array(coordinates)\n",
    "    points = np.append(points,points[0:2]) \n",
    "    points = points.reshape((5, 2))\n",
    "    # Calculate the Euclidean distances between consecutive points\n",
    "    distances = np.linalg.norm(np.diff(points, axis=0), axis=1)\n",
    "    # Find the index of the longest edge\n",
    "    longest_edge_index = np.argmax(distances)\n",
    "    longest_edge_length = distances[longest_edge_index]\n",
    "    pointA , pointB = points[longest_edge_index], points[longest_edge_index + 1]\n",
    "    # Select lower x values as Start point \n",
    "    if pointA[0] < pointB[0]:\n",
    "        theta = calculateAngle(pointA, pointB)\n",
    "    else:\n",
    "        theta = calculateAngle(pointB, pointA)\n",
    "    \n",
    "    if theta == 90:\n",
    "        theta = -90\n",
    "    #print(\"Calculated Angle (in degrees):\", theta)\n",
    "    return theta\n",
    "    \n"
   ]
  },
  {
   "cell_type": "code",
   "execution_count": null,
   "id": "c7f3a82f",
   "metadata": {
    "scrolled": false
   },
   "outputs": [],
   "source": [
    "# 0 degree test\n",
    "bbox = [10,10,30,10,30,20,10,20]\n",
    "angle = 0\n",
    "testBbox(bbox,angle)"
   ]
  },
  {
   "cell_type": "code",
   "execution_count": null,
   "id": "7a8b4987",
   "metadata": {
    "scrolled": false
   },
   "outputs": [],
   "source": [
    "# 90 degree test\n",
    "bbox = [10,10,20,10,20,30,10,30]\n",
    "angle = 90\n",
    "testBbox(bbox,angle)"
   ]
  },
  {
   "cell_type": "code",
   "execution_count": null,
   "id": "5cafd0b2",
   "metadata": {
    "scrolled": false
   },
   "outputs": [],
   "source": [
    "# 45 degree test\n",
    "bbox = [10,50,50,10,70,30,30,70]\n",
    "angle = 45\n",
    "testBbox(bbox,angle)"
   ]
  },
  {
   "cell_type": "code",
   "execution_count": null,
   "id": "93369a86",
   "metadata": {
    "scrolled": false
   },
   "outputs": [],
   "source": [
    "# -45 test\n",
    "bbox = [10,30,30,10,70,50,50,70]\n",
    "angle = -45\n",
    "testBbox(bbox,angle)"
   ]
  },
  {
   "cell_type": "code",
   "execution_count": null,
   "id": "558591f6",
   "metadata": {},
   "outputs": [],
   "source": []
  },
  {
   "cell_type": "code",
   "execution_count": null,
   "id": "6f3b9355",
   "metadata": {},
   "outputs": [],
   "source": []
  }
 ],
 "metadata": {
  "kernelspec": {
   "display_name": "Python 3 (ipykernel)",
   "language": "python",
   "name": "python3"
  },
  "language_info": {
   "codemirror_mode": {
    "name": "ipython",
    "version": 3
   },
   "file_extension": ".py",
   "mimetype": "text/x-python",
   "name": "python",
   "nbconvert_exporter": "python",
   "pygments_lexer": "ipython3",
   "version": "3.8.10"
  }
 },
 "nbformat": 4,
 "nbformat_minor": 5
}
