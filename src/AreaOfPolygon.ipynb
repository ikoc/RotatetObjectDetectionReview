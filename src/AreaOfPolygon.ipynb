{
 "cells": [
  {
   "cell_type": "code",
   "execution_count": 1,
   "id": "12108858",
   "metadata": {},
   "outputs": [],
   "source": [
    "from shapely.geometry import Polygon\n",
    "\n",
    "def calculate_polygon_area(vertices):\n",
    "    # Ensure the number of vertices is even\n",
    "    if len(vertices) % 2 != 0:\n",
    "        raise ValueError('Invalid polygon vertices')\n",
    "\n",
    "    # Split the vertices into x and y coordinates\n",
    "    x_coordinates = vertices[::2]\n",
    "    y_coordinates = vertices[1::2]\n",
    "\n",
    "    # Create a shapely Polygon object\n",
    "    polygon = Polygon(zip(x_coordinates, y_coordinates))\n",
    "\n",
    "    # Calculate the area using the area property\n",
    "    area = polygon.area\n",
    "\n",
    "    return area"
   ]
  },
  {
   "cell_type": "code",
   "execution_count": 2,
   "id": "8c2e66ae",
   "metadata": {},
   "outputs": [
    {
     "data": {
      "text/plain": [
       "200.0"
      ]
     },
     "execution_count": 2,
     "metadata": {},
     "output_type": "execute_result"
    }
   ],
   "source": [
    "bbox = [20,10,25,10,25,50,20,50]\n",
    "calculate_polygon_area(bbox)"
   ]
  },
  {
   "cell_type": "code",
   "execution_count": null,
   "id": "dec4343e",
   "metadata": {},
   "outputs": [],
   "source": []
  }
 ],
 "metadata": {
  "kernelspec": {
   "display_name": "Python 3 (ipykernel)",
   "language": "python",
   "name": "python3"
  },
  "language_info": {
   "codemirror_mode": {
    "name": "ipython",
    "version": 3
   },
   "file_extension": ".py",
   "mimetype": "text/x-python",
   "name": "python",
   "nbconvert_exporter": "python",
   "pygments_lexer": "ipython3",
   "version": "3.8.10"
  }
 },
 "nbformat": 4,
 "nbformat_minor": 5
}
